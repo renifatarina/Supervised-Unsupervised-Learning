{
  "nbformat": 4,
  "nbformat_minor": 0,
  "metadata": {
    "colab": {
      "provenance": []
    },
    "kernelspec": {
      "name": "python3",
      "display_name": "Python 3"
    },
    "language_info": {
      "name": "python"
    }
  },
  "cells": [
    {
      "cell_type": "code",
      "execution_count": null,
      "metadata": {
        "colab": {
          "base_uri": "https://localhost:8080/"
        },
        "id": "qVXFhdh6aSJj",
        "outputId": "c601ca1e-6014-4ec3-a09c-40be1162f18e"
      },
      "outputs": [
        {
          "output_type": "stream",
          "name": "stdout",
          "text": [
            "Looking in indexes: https://pypi.org/simple, https://us-python.pkg.dev/colab-wheels/public/simple/\n",
            "Requirement already satisfied: pyspark in /usr/local/lib/python3.8/dist-packages (3.3.1)\n",
            "Requirement already satisfied: py4j==0.10.9.5 in /usr/local/lib/python3.8/dist-packages (from pyspark) (0.10.9.5)\n"
          ]
        }
      ],
      "source": [
        "# installing pyspark python library\n",
        "!pip install pyspark"
      ]
    },
    {
      "cell_type": "code",
      "source": [
        "# Konfigurasi Spark\n",
        "# creating Spark session\n",
        "from pyspark.sql import SparkSession\n",
        "\n",
        "# Membuat SparkSession\n",
        "spark = SparkSession.builder\\\n",
        "        .master(\"local\")\\\n",
        "        .appName(\"NETFLIX\")\\\n",
        "        .config('spark.ui.port', '4050')\\\n",
        "        .getOrCreate()\n",
        "\n",
        "# Deklarasi fungsi\n",
        "spark\n",
        "sc = spark.sparkContext"
      ],
      "metadata": {
        "id": "_nyRYS1SbDkP"
      },
      "execution_count": null,
      "outputs": []
    },
    {
      "cell_type": "code",
      "source": [
        "#Digunakan untuk menghilangkan space diheader agar data dapat diolah\n",
        "from pyspark.sql.types import StructType,StructField, StringType\n",
        "import re\n",
        "#import sparkFiles untuk membaca dataset dari url\n",
        "from pyspark import SparkFiles\n",
        "\n",
        "#load dataset\n",
        "url = \\\n",
        "\"https://raw.githubusercontent.com/ravenusa/FlashKnight/main/NetflixShows.csv\"\n",
        "spark.sparkContext.addFile(url)\n",
        "df = spark.read.csv(\"file://\"+SparkFiles.get(\"NetflixShows.csv\"),\\\n",
        "                    header=True, inferSchema= True)\n",
        "\n",
        "#menampilkan info type data pada setiap kolom\n",
        "df.printSchema()\n",
        "#menghapus spaci pada header table agar data dapat diolah\n",
        "for each in df.schema.names:\n",
        "    df = df.withColumnRenamed(each,  re.sub(r'\\s+([a-zA-Z_][a-zA-Z_0-9]*)\\s*',\\\n",
        "                                            '',each.replace(' ', '')))\n",
        "\n",
        "#menampilkan data dataset\n",
        "df.show(truncate=False)"
      ],
      "metadata": {
        "id": "quF_WAbGbTxI",
        "colab": {
          "base_uri": "https://localhost:8080/"
        },
        "outputId": "46f594cd-5c88-4b1c-9327-e0bc3b47a6f4"
      },
      "execution_count": null,
      "outputs": [
        {
          "output_type": "stream",
          "name": "stdout",
          "text": [
            "root\n",
            " |-- title: string (nullable = true)\n",
            " |-- rating: string (nullable = true)\n",
            " |-- ratingLevel: string (nullable = true)\n",
            " |-- ratingDescription: integer (nullable = true)\n",
            " |-- release year: integer (nullable = true)\n",
            " |-- user rating score: string (nullable = true)\n",
            " |-- user rating size: integer (nullable = true)\n",
            "\n",
            "+---------------------+------+-----------------------------------------------------------------------------+-----------------+-----------+---------------+--------------+\n",
            "|title                |rating|ratingLevel                                                                  |ratingDescription|releaseyear|userratingscore|userratingsize|\n",
            "+---------------------+------+-----------------------------------------------------------------------------+-----------------+-----------+---------------+--------------+\n",
            "|White Chicks         |PG-13 |crude and sexual humor, language and some drug content                       |80               |2004       |82             |80            |\n",
            "|Lucky Number Slevin  |R     |strong violence, sexual content and adult language                           |100              |2006       |NA             |82            |\n",
            "|Grey's Anatomy       |TV-14 |Parents strongly cautioned. May be unsuitable for children ages 14 and under.|90               |2016       |98             |80            |\n",
            "|Prison Break         |TV-14 |Parents strongly cautioned. May be unsuitable for children ages 14 and under.|90               |2008       |98             |80            |\n",
            "|How I Met Your Mother|TV-PG |Parental guidance suggested. May not be suitable for all children.           |70               |2014       |94             |80            |\n",
            "|Supernatural         |TV-14 |Parents strongly cautioned. May be unsuitable for children ages 14 and under.|90               |2016       |95             |80            |\n",
            "|Breaking Bad         |TV-MA |For mature audiences.  May not be suitable for children 17 and under.        |110              |2013       |97             |80            |\n",
            "|The Vampire Diaries  |TV-14 |Parents strongly cautioned. May be unsuitable for children ages 14 and under.|90               |2017       |91             |80            |\n",
            "|The Walking Dead     |TV-MA |For mature audiences.  May not be suitable for children 17 and under.        |110              |2015       |98             |80            |\n",
            "|Pretty Little Liars  |TV-14 |Parents strongly cautioned. May be unsuitable for children ages 14 and under.|90               |2016       |96             |80            |\n",
            "|Once Upon a Time     |TV-PG |Parental guidance suggested. May not be suitable for all children.           |70               |2016       |98             |80            |\n",
            "|Sherlock             |TV-14 |Parents strongly cautioned. May be unsuitable for children ages 14 and under.|90               |2016       |95             |80            |\n",
            "|Death Note           |TV-14 |Parents strongly cautioned. May be unsuitable for children ages 14 and under.|90               |2006       |77             |80            |\n",
            "|Naruto               |TV-PG |Parental guidance suggested. May not be suitable for all children.           |70               |2008       |88             |80            |\n",
            "|The Hunter           |R     |language and brief violence                                                  |100              |2011       |NA             |82            |\n",
            "|Lottie Dottie Chicken|TV-Y  |Suitable for all ages.                                                       |10               |2009       |NA             |82            |\n",
            "|Arrow                |TV-14 |Parents strongly cautioned. May be unsuitable for children ages 14 and under.|90               |2015       |96             |80            |\n",
            "|Black Mirror         |TV-MA |For mature audiences.  May not be suitable for children 17 and under.        |110              |2016       |80             |80            |\n",
            "|The Originals        |TV-14 |Parents strongly cautioned. May be unsuitable for children ages 14 and under.|90               |2016       |74             |80            |\n",
            "|The 100              |NR    |This movie has not been rated.                                               |124              |2016       |97             |80            |\n",
            "+---------------------+------+-----------------------------------------------------------------------------+-----------------+-----------+---------------+--------------+\n",
            "only showing top 20 rows\n",
            "\n"
          ]
        }
      ]
    },
    {
      "cell_type": "code",
      "source": [
        "# menghapus column yang tidak diperlukan dan menampilkan data\n",
        "df_fill = df.drop('rating','ratingLevel','userratingscore')\n",
        "df_fill.show(truncate=False)"
      ],
      "metadata": {
        "id": "r5brrLoJb5u7",
        "colab": {
          "base_uri": "https://localhost:8080/"
        },
        "outputId": "d048a30c-59d9-4358-e985-77fb248033bd"
      },
      "execution_count": null,
      "outputs": [
        {
          "output_type": "stream",
          "name": "stdout",
          "text": [
            "+---------------------+-----------------+-----------+--------------+\n",
            "|title                |ratingDescription|releaseyear|userratingsize|\n",
            "+---------------------+-----------------+-----------+--------------+\n",
            "|White Chicks         |80               |2004       |80            |\n",
            "|Lucky Number Slevin  |100              |2006       |82            |\n",
            "|Grey's Anatomy       |90               |2016       |80            |\n",
            "|Prison Break         |90               |2008       |80            |\n",
            "|How I Met Your Mother|70               |2014       |80            |\n",
            "|Supernatural         |90               |2016       |80            |\n",
            "|Breaking Bad         |110              |2013       |80            |\n",
            "|The Vampire Diaries  |90               |2017       |80            |\n",
            "|The Walking Dead     |110              |2015       |80            |\n",
            "|Pretty Little Liars  |90               |2016       |80            |\n",
            "|Once Upon a Time     |70               |2016       |80            |\n",
            "|Sherlock             |90               |2016       |80            |\n",
            "|Death Note           |90               |2006       |80            |\n",
            "|Naruto               |70               |2008       |80            |\n",
            "|The Hunter           |100              |2011       |82            |\n",
            "|Lottie Dottie Chicken|10               |2009       |82            |\n",
            "|Arrow                |90               |2015       |80            |\n",
            "|Black Mirror         |110              |2016       |80            |\n",
            "|The Originals        |90               |2016       |80            |\n",
            "|The 100              |124              |2016       |80            |\n",
            "+---------------------+-----------------+-----------+--------------+\n",
            "only showing top 20 rows\n",
            "\n"
          ]
        }
      ]
    },
    {
      "cell_type": "code",
      "source": [
        "# menghapus data yang memiliki nilai null\n",
        "df_fill = df_fill.na.drop()"
      ],
      "metadata": {
        "id": "JCFRVSBVczD9"
      },
      "execution_count": null,
      "outputs": []
    },
    {
      "cell_type": "code",
      "source": [
        "# schema dari data\n",
        "df_fill.printSchema()"
      ],
      "metadata": {
        "id": "jkTkvgujc5oF",
        "colab": {
          "base_uri": "https://localhost:8080/"
        },
        "outputId": "56e24b61-d1ee-429c-a430-32147def54a1"
      },
      "execution_count": null,
      "outputs": [
        {
          "output_type": "stream",
          "name": "stdout",
          "text": [
            "root\n",
            " |-- title: string (nullable = true)\n",
            " |-- ratingDescription: integer (nullable = true)\n",
            " |-- releaseyear: integer (nullable = true)\n",
            " |-- userratingsize: integer (nullable = true)\n",
            "\n"
          ]
        }
      ]
    },
    {
      "cell_type": "code",
      "source": [
        "#import library filtering data\n",
        "from pyspark.ml.recommendation import ALS\n",
        "from pyspark.ml.evaluation import RegressionEvaluator\n",
        "\n",
        "# membagi data menjadi data training dan data testing\n",
        "(training, test) = df_fill.randomSplit([0.8, 0.2])"
      ],
      "metadata": {
        "id": "smsbK4GNc-Bk"
      },
      "execution_count": null,
      "outputs": []
    },
    {
      "cell_type": "code",
      "source": [
        "# membuat model pada training data\n",
        "als = ALS(maxIter=15, regParam=0.09, userCol=\"ratingDescription\", \\\n",
        "          itemCol=\"releaseyear\", ratingCol=\"userratingsize\", \\\n",
        "          coldStartStrategy=\"drop\")\n",
        "model = als.fit(training)"
      ],
      "metadata": {
        "id": "qd-ACXWYdFH6"
      },
      "execution_count": null,
      "outputs": []
    },
    {
      "cell_type": "code",
      "source": [
        "# membuat prediksi dan menampilkan hasil prediksi\n",
        "predictions = model.transform(test)\n",
        "predictions.show(truncate=False)"
      ],
      "metadata": {
        "id": "C1sw8EbmdkD8",
        "colab": {
          "base_uri": "https://localhost:8080/"
        },
        "outputId": "6141dd6f-0506-454f-867e-1090342f4806"
      },
      "execution_count": null,
      "outputs": [
        {
          "output_type": "stream",
          "name": "stdout",
          "text": [
            "+-------------------------------------------------------------+-----------------+-----------+--------------+----------+\n",
            "|title                                                        |ratingDescription|releaseyear|userratingsize|prediction|\n",
            "+-------------------------------------------------------------+-----------------+-----------+--------------+----------+\n",
            "|Animaniacs                                                   |41               |1997       |80            |79.58071  |\n",
            "|Animaniacs                                                   |41               |1997       |80            |79.58071  |\n",
            "|Dawn of the Croods                                           |41               |2017       |80            |81.268684 |\n",
            "|Dino Squad                                                   |41               |2008       |82            |82.03045  |\n",
            "|Lego DC Comics: Batman Be-Leaguered                          |41               |2014       |82            |82.12498  |\n",
            "|The Deep                                                     |41               |2015       |82            |81.87812  |\n",
            "|Transformers: Rescue Bots                                    |41               |2016       |82            |81.804306 |\n",
            "|An American Tail: Fievel Goes West                           |35               |1991       |82            |81.73104  |\n",
            "|Babe: Pig in the City                                        |35               |1998       |82            |82.12146  |\n",
            "|Back to the Secret Garden                                    |35               |2002       |82            |82.09172  |\n",
            "|Balto                                                        |35               |1995       |80            |79.92727  |\n",
            "|Balto                                                        |35               |1995       |80            |79.92727  |\n",
            "|Balto                                                        |35               |1995       |80            |79.92727  |\n",
            "|Balto 2: Wolf Quest                                          |35               |2001       |82            |81.98472  |\n",
            "|Balto 2: Wolf Quest                                          |35               |2001       |82            |81.98472  |\n",
            "|Beverly Hills Chihuahua 3: Viva La Fiesta!                   |35               |2012       |82            |80.75772  |\n",
            "|Disney Animation Collection: Vol. 1: Mickey and the Beanstalk|35               |2009       |82            |81.528435 |\n",
            "|Disney Animation Collection: Vol. 2: Three Little Pigs       |35               |2009       |82            |81.528435 |\n",
            "|Fantasia                                                     |35               |1940       |80            |79.737595 |\n",
            "|Fantasia 2000                                                |35               |2000       |82            |81.00203  |\n",
            "+-------------------------------------------------------------+-----------------+-----------+--------------+----------+\n",
            "only showing top 20 rows\n",
            "\n"
          ]
        }
      ]
    },
    {
      "cell_type": "code",
      "source": [
        "# Menampilkan 5 baris pertama RDD\n",
        "predictions.take(5)"
      ],
      "metadata": {
        "id": "1EPFivWImVYX",
        "colab": {
          "base_uri": "https://localhost:8080/"
        },
        "outputId": "db37a5f6-0d0f-41a8-a711-92bb3e4a7c38"
      },
      "execution_count": null,
      "outputs": [
        {
          "output_type": "execute_result",
          "data": {
            "text/plain": [
              "[Row(title='Animaniacs', ratingDescription=41, releaseyear=1997, userratingsize=80, prediction=79.5807113647461),\n",
              " Row(title='Animaniacs', ratingDescription=41, releaseyear=1997, userratingsize=80, prediction=79.5807113647461),\n",
              " Row(title='Dawn of the Croods', ratingDescription=41, releaseyear=2017, userratingsize=80, prediction=81.26868438720703),\n",
              " Row(title='Dino Squad', ratingDescription=41, releaseyear=2008, userratingsize=82, prediction=82.03044891357422),\n",
              " Row(title='Lego DC Comics: Batman Be-Leaguered', ratingDescription=41, releaseyear=2014, userratingsize=82, prediction=82.1249771118164)]"
            ]
          },
          "metadata": {},
          "execution_count": 10
        }
      ]
    },
    {
      "cell_type": "code",
      "source": [
        "# menghitung nilai RMSE\n",
        "evaluator = RegressionEvaluator(metricName=\"rmse\", labelCol=\"userratingsize\", predictionCol=\"prediction\")\n",
        "rmse = evaluator.evaluate(predictions)\n",
        "print(\"Root-mean-square error = \" + str(rmse))"
      ],
      "metadata": {
        "id": "R0K3bkt_dpeZ",
        "colab": {
          "base_uri": "https://localhost:8080/"
        },
        "outputId": "a42281d7-5c24-4709-b3ef-6dcddd9b9d44"
      },
      "execution_count": null,
      "outputs": [
        {
          "output_type": "stream",
          "name": "stdout",
          "text": [
            "Root-mean-square error = 2.2356122441196393\n"
          ]
        }
      ]
    },
    {
      "cell_type": "code",
      "source": [
        "# membuat rekomendasi berdasarkan ratingDesc\n",
        "recomSingle = test.filter(test['ratingDescription']==41)\\\n",
        ".select(['releaseyear','ratingDescription'])\n",
        "\n",
        "recomSingle.show(truncate=False)"
      ],
      "metadata": {
        "id": "NCNgSnQ8d26t",
        "colab": {
          "base_uri": "https://localhost:8080/"
        },
        "outputId": "123a875c-7b14-4e39-dcf0-15b8e507370a"
      },
      "execution_count": null,
      "outputs": [
        {
          "output_type": "stream",
          "name": "stdout",
          "text": [
            "+-----------+-----------------+\n",
            "|releaseyear|ratingDescription|\n",
            "+-----------+-----------------+\n",
            "|1997       |41               |\n",
            "|1997       |41               |\n",
            "|2017       |41               |\n",
            "|2008       |41               |\n",
            "|2014       |41               |\n",
            "|2015       |41               |\n",
            "|1989       |41               |\n",
            "|2016       |41               |\n",
            "+-----------+-----------------+\n",
            "\n"
          ]
        }
      ]
    },
    {
      "cell_type": "code",
      "source": [
        "#membuat rekomendasi untuk satu kolom saja ratingDesc\n",
        "recomendations = model.transform(recomSingle)\n",
        "recomendations.orderBy('prediction',ascending=False).show(truncate=False)"
      ],
      "metadata": {
        "id": "3Sv6Co3Xeejx",
        "colab": {
          "base_uri": "https://localhost:8080/"
        },
        "outputId": "a254f7ce-22b0-4775-e3e9-a4ff47cc7ba6"
      },
      "execution_count": null,
      "outputs": [
        {
          "output_type": "stream",
          "name": "stdout",
          "text": [
            "+-----------+-----------------+----------+\n",
            "|releaseyear|ratingDescription|prediction|\n",
            "+-----------+-----------------+----------+\n",
            "|2014       |41               |82.12498  |\n",
            "|2008       |41               |82.03045  |\n",
            "|2015       |41               |81.87812  |\n",
            "|2016       |41               |81.804306 |\n",
            "|2017       |41               |81.268684 |\n",
            "|1997       |41               |79.58071  |\n",
            "|1997       |41               |79.58071  |\n",
            "+-----------+-----------------+----------+\n",
            "\n"
          ]
        }
      ]
    },
    {
      "cell_type": "code",
      "source": [
        "#membuat rekomendasi untuk satu kolom saja ratingDesc\n",
        "recomenAll = model.recommendForAllUsers(5)\n",
        "recomenAll.show(truncate=False)"
      ],
      "metadata": {
        "id": "4qWnhxo9jbZb",
        "colab": {
          "base_uri": "https://localhost:8080/"
        },
        "outputId": "8594bce5-d2f4-4737-8190-0229ed0a24d7"
      },
      "execution_count": null,
      "outputs": [
        {
          "output_type": "stream",
          "name": "stdout",
          "text": [
            "+-----------------+--------------------------------------------------------------------------------------------+\n",
            "|ratingDescription|recommendations                                                                             |\n",
            "+-----------------+--------------------------------------------------------------------------------------------+\n",
            "|100              |[{2003, 82.622475}, {2008, 82.531845}, {2002, 82.4902}, {2011, 82.451096}, {1998, 82.11563}]|\n",
            "|10               |[{2010, 82.18918}, {2012, 82.01984}, {2011, 81.954475}, {2014, 81.92988}, {2002, 81.77436}] |\n",
            "|80               |[{2001, 81.462975}, {2011, 81.2135}, {2002, 80.81116}, {1982, 80.74129}, {2008, 80.52011}]  |\n",
            "|70               |[{2011, 81.94851}, {2017, 81.46403}, {2012, 81.13612}, {2013, 80.82902}, {2008, 80.667175}] |\n",
            "|60               |[{2011, 82.32549}, {2012, 81.90643}, {2013, 81.70754}, {2010, 81.24812}, {2001, 81.19743}]  |\n",
            "|90               |[{2011, 81.17854}, {2017, 80.53702}, {2012, 80.53222}, {2016, 80.42053}, {2013, 80.419205}] |\n",
            "|110              |[{2011, 81.25212}, {2010, 81.24785}, {2012, 81.01773}, {2013, 80.91241}, {2015, 80.8128}]   |\n",
            "|41               |[{2011, 82.854675}, {2012, 82.3189}, {2013, 82.18002}, {2014, 82.12498}, {2005, 82.0707}]   |\n",
            "|42               |[{2011, 83.3256}, {2012, 83.11001}, {2009, 82.74982}, {2007, 82.37181}, {2014, 82.08631}]   |\n",
            "|124              |[{2014, 81.50823}, {2015, 81.47698}, {2010, 81.425514}, {2016, 81.31703}, {2012, 81.185646}]|\n",
            "|35               |[{1998, 82.12147}, {2011, 82.11419}, {2002, 82.09172}, {2013, 81.99393}, {2001, 81.98472}]  |\n",
            "+-----------------+--------------------------------------------------------------------------------------------+\n",
            "\n"
          ]
        }
      ]
    },
    {
      "cell_type": "code",
      "source": [
        "# Ubah tampilan diatas menjadi format yang mudah dibaca\n",
        "from pyspark.sql.functions import explode\n",
        "from pyspark.sql.functions import col\n",
        "convertData = recomenAll.withColumn(\"recommendations\",\\\n",
        "                                    explode(\"recommendations\"))\n",
        "convertData = convertData.select(\"ratingDescription\",\\\n",
        "                           col(\"recommendations.releaseyear\"))\n",
        "convertData.show(truncate=False)"
      ],
      "metadata": {
        "id": "RVpnGImIjled",
        "colab": {
          "base_uri": "https://localhost:8080/"
        },
        "outputId": "520bc121-4a93-4d90-f8cd-16cf9e85dde9"
      },
      "execution_count": null,
      "outputs": [
        {
          "output_type": "stream",
          "name": "stdout",
          "text": [
            "+-----------------+-----------+\n",
            "|ratingDescription|releaseyear|\n",
            "+-----------------+-----------+\n",
            "|100              |2003       |\n",
            "|100              |2008       |\n",
            "|100              |2002       |\n",
            "|100              |2011       |\n",
            "|100              |1998       |\n",
            "|10               |2010       |\n",
            "|10               |2012       |\n",
            "|10               |2011       |\n",
            "|10               |2014       |\n",
            "|10               |2002       |\n",
            "|80               |2001       |\n",
            "|80               |2011       |\n",
            "|80               |2002       |\n",
            "|80               |1982       |\n",
            "|80               |2008       |\n",
            "|70               |2011       |\n",
            "|70               |2017       |\n",
            "|70               |2012       |\n",
            "|70               |2013       |\n",
            "|70               |2008       |\n",
            "+-----------------+-----------+\n",
            "only showing top 20 rows\n",
            "\n"
          ]
        }
      ]
    }
  ]
}